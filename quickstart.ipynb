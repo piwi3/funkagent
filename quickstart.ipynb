{
 "cells": [
  {
   "cell_type": "code",
   "execution_count": 1,
   "metadata": {},
   "outputs": [],
   "source": [
    "%load_ext autoreload\n",
    "%autoreload 2"
   ]
  },
  {
   "cell_type": "code",
   "execution_count": 2,
   "metadata": {},
   "outputs": [],
   "source": [
    "#!pip install -qU funkagent"
   ]
  },
  {
   "attachments": {},
   "cell_type": "markdown",
   "metadata": {},
   "source": [
    "# Funkagent Quickstart"
   ]
  },
  {
   "cell_type": "code",
   "execution_count": 3,
   "metadata": {},
   "outputs": [],
   "source": [
    "from funkagent import agents\n",
    "from dotenv import load_dotenv, dotenv_values"
   ]
  },
  {
   "attachments": {},
   "cell_type": "markdown",
   "metadata": {},
   "source": [
    "First we will create a function to be used by our funkagent. The `Agent` can use multiple functions, in this example we will just use one however."
   ]
  },
  {
   "cell_type": "code",
   "execution_count": 4,
   "metadata": {},
   "outputs": [],
   "source": [
    "# create a simple function for testing with\n",
    "def circumference_calculator(radius: float, something: float = 4.4) -> float:\n",
    "    \"\"\"Calculates the circumference of a circle given the radius.\n",
    "\n",
    "    :param radius: The radius of the circle as a single, positive number (float) - no math calculations (*,+,-,/) as input allowed.\n",
    "    :return: The circumference of the circle\n",
    "    \"\"\"\n",
    "    return 2 * 3.14 * radius"
   ]
  },
  {
   "attachments": {},
   "cell_type": "markdown",
   "metadata": {},
   "source": [
    "After this we can initialize an agent using an [OpenAI API key](https://platform.openai.com) and our list of `functions` like so:"
   ]
  },
  {
   "cell_type": "code",
   "execution_count": 5,
   "metadata": {},
   "outputs": [],
   "source": [
    "config = dotenv_values()"
   ]
  },
  {
   "cell_type": "code",
   "execution_count": 6,
   "metadata": {},
   "outputs": [],
   "source": [
    "agent = agents.Agent(\n",
    "    openai_api_key=config.get(\"OPENAI_API_KEY\"),\n",
    "    functions=[circumference_calculator]\n",
    ")"
   ]
  },
  {
   "attachments": {},
   "cell_type": "markdown",
   "metadata": {},
   "source": [
    "We can see the processed function instructions here:"
   ]
  },
  {
   "cell_type": "code",
   "execution_count": 7,
   "metadata": {},
   "outputs": [
    {
     "data": {
      "text/plain": [
       "'gpt-3.5-turbo-0613'"
      ]
     },
     "execution_count": 7,
     "metadata": {},
     "output_type": "execute_result"
    }
   ],
   "source": [
    "agent.model_name"
   ]
  },
  {
   "cell_type": "code",
   "execution_count": 8,
   "metadata": {},
   "outputs": [
    {
     "data": {
      "text/plain": [
       "[{'name': 'circumference_calculator',\n",
       "  'description': 'Calculates the circumference of a circle given the radius.',\n",
       "  'parameters': {'type': 'object',\n",
       "   'properties': {'radius': {'description': 'The radius of the circle as a single, positive number (float) - no math calculations (*,+,-,/) as input allowed.',\n",
       "     'type': 'number'},\n",
       "    'something': {'description': '', 'type': 'number'}}},\n",
       "  'required': ['radius', 'something']}]"
      ]
     },
     "execution_count": 8,
     "metadata": {},
     "output_type": "execute_result"
    }
   ],
   "source": [
    "agent.functions"
   ]
  },
  {
   "attachments": {},
   "cell_type": "markdown",
   "metadata": {},
   "source": [
    "These instructions will be used by OpenAI GPT-4 / GPT-3.5 to decide whether to use a function, and how to use a chosen function.\n",
    "\n",
    "We can ask the agent a question using `ask`:"
   ]
  },
  {
   "cell_type": "code",
   "execution_count": 9,
   "metadata": {},
   "outputs": [
    {
     "name": "stdout",
     "output_type": "stream",
     "text": [
      ".."
     ]
    },
    {
     "data": {
      "text/plain": [
       "'The circumference of a circle with a radius of 5.31 is approximately 33.35 units.'"
      ]
     },
     "execution_count": 9,
     "metadata": {},
     "output_type": "execute_result"
    }
   ],
   "source": [
    "agent.ask(\"What is the circumference of a circle with a radius of 5.31?\")"
   ]
  },
  {
   "attachments": {},
   "cell_type": "markdown",
   "metadata": {},
   "source": [
    "After asking a question we can see the chat log is added to the internal `chat_history` attribute:"
   ]
  },
  {
   "cell_type": "code",
   "execution_count": 10,
   "metadata": {},
   "outputs": [
    {
     "data": {
      "text/plain": [
       "[{'role': 'system',\n",
       "  'content': 'Assistant is a large language model trained by OpenAI.\\n\\nAssistant is designed to be able to assist with a wide range of tasks, from answering simple questions to providing in-depth explanations and discussion on a wide range of topics. As a language model, Assistant is able to generate human-like text based on the input it receives, allowing it to engage in natural-sounding conversations and provide responses that are coherent and relevant to the topic at hand.\\n\\nAssistant is constantly learning and improving, and its capabilities are constantly evolving. It is able to process and understand large amounts of text, and can use this knowledge to provide accurate and informative responses to a wide range of questions. Additionally, Assistant is able to generate its own text based on the input it receives, allowing it to engage in discussions and provide explanations and descriptions on a wide range of topics.\\n\\nOverall, Assistant is a powerful system that can help with a wide range of tasks and provide valuable insights and information on a wide range of topics. Whether you need help with a specific question or just want to have a conversation about a particular topic, Assistant is here to assist.\\n'},\n",
       " {'role': 'user',\n",
       "  'content': 'What is the circumference of a circle with a radius of 5.31?'},\n",
       " {'role': 'assistant',\n",
       "  'content': 'The circumference of a circle with a radius of 5.31 is approximately 33.35 units.'}]"
      ]
     },
     "execution_count": 10,
     "metadata": {},
     "output_type": "execute_result"
    }
   ],
   "source": [
    "agent.chat_history"
   ]
  },
  {
   "attachments": {},
   "cell_type": "markdown",
   "metadata": {},
   "source": [
    "Because the agent has a *conversational memory* it can refer to past interactions stored within the `chat_history`:"
   ]
  },
  {
   "cell_type": "code",
   "execution_count": 11,
   "metadata": {},
   "outputs": [
    {
     "name": "stdout",
     "output_type": "stream",
     "text": [
      "..."
     ]
    },
    {
     "data": {
      "text/plain": [
       "'If we double the radius from 5.31 to 10.62, the circumference of the circle would be approximately 66.7 units.'"
      ]
     },
     "execution_count": 11,
     "metadata": {},
     "output_type": "execute_result"
    }
   ],
   "source": [
    "agent.ask(\"what is the circumference if we double the radius?\")"
   ]
  },
  {
   "attachments": {},
   "cell_type": "markdown",
   "metadata": {},
   "source": [
    "As before, we can view the `chat_history` and find the last two interactions have been added to the conversational memory:"
   ]
  },
  {
   "cell_type": "code",
   "execution_count": 12,
   "metadata": {},
   "outputs": [
    {
     "data": {
      "text/plain": [
       "[{'role': 'system',\n",
       "  'content': 'Assistant is a large language model trained by OpenAI.\\n\\nAssistant is designed to be able to assist with a wide range of tasks, from answering simple questions to providing in-depth explanations and discussion on a wide range of topics. As a language model, Assistant is able to generate human-like text based on the input it receives, allowing it to engage in natural-sounding conversations and provide responses that are coherent and relevant to the topic at hand.\\n\\nAssistant is constantly learning and improving, and its capabilities are constantly evolving. It is able to process and understand large amounts of text, and can use this knowledge to provide accurate and informative responses to a wide range of questions. Additionally, Assistant is able to generate its own text based on the input it receives, allowing it to engage in discussions and provide explanations and descriptions on a wide range of topics.\\n\\nOverall, Assistant is a powerful system that can help with a wide range of tasks and provide valuable insights and information on a wide range of topics. Whether you need help with a specific question or just want to have a conversation about a particular topic, Assistant is here to assist.\\n'},\n",
       " {'role': 'user',\n",
       "  'content': 'What is the circumference of a circle with a radius of 5.31?'},\n",
       " {'role': 'assistant',\n",
       "  'content': 'The circumference of a circle with a radius of 5.31 is approximately 33.35 units.'},\n",
       " {'role': 'user',\n",
       "  'content': 'what is the circumference if we double the radius?'},\n",
       " {'role': 'assistant',\n",
       "  'content': 'If we double the radius from 5.31 to 10.62, the circumference of the circle would be approximately 66.7 units.'}]"
      ]
     },
     "execution_count": 12,
     "metadata": {},
     "output_type": "execute_result"
    }
   ],
   "source": [
    "agent.chat_history"
   ]
  },
  {
   "cell_type": "code",
   "execution_count": 13,
   "metadata": {},
   "outputs": [
    {
     "name": "stdout",
     "output_type": "stream",
     "text": [
      "."
     ]
    },
    {
     "data": {
      "text/plain": [
       "\"Lionel Messi is an Argentine professional soccer player widely considered one of the greatest footballers of all time. He was born on June 24, 1987, in Rosario, Argentina. Messi began his career at a young age, joining the youth team of his local club, Newell's Old Boys, before moving to Barcelona's youth academy, La Masia, at the age of 13.\\n\\nMessi spent the majority of his professional career at FC Barcelona, where he won numerous titles including four UEFA Champions League titles and ten La Liga titles. During his time at Barcelona, Messi set several records, including becoming the club's all-time top scorer and holding the record for the most goals scored in a calendar year.\\n\\nIn 2021, Messi joined Paris Saint-Germain (PSG) after leaving Barcelona due to financial constraints. Over the course of his career, Messi has won numerous individual awards, including seven Ballon d'Or titles, which are awarded to the world's best player.\\n\\nMessi is known for his exceptional skills, including his dribbling ability, close control of the ball, and incredible goal-scoring ability. His agility, vision, and playmaking abilities make him a true standout in the sport.\\n\\nOff the field, Messi is also involved in various charitable activities. He has established the Leo Messi Foundation, which supports access to education, healthcare, and sports for vulnerable children.\\n\\nOverall, Lionel Messi is widely regarded as one of the greatest soccer players of all time and has had a tremendous impact on the sport.\""
      ]
     },
     "execution_count": 13,
     "metadata": {},
     "output_type": "execute_result"
    }
   ],
   "source": [
    "agent.ask(\"Who is Lionel Messi?\")"
   ]
  },
  {
   "attachments": {},
   "cell_type": "markdown",
   "metadata": {},
   "source": [
    "---"
   ]
  }
 ],
 "metadata": {
  "kernelspec": {
   "display_name": "ml",
   "language": "python",
   "name": "python3"
  },
  "language_info": {
   "codemirror_mode": {
    "name": "ipython",
    "version": 3
   },
   "file_extension": ".py",
   "mimetype": "text/x-python",
   "name": "python",
   "nbconvert_exporter": "python",
   "pygments_lexer": "ipython3",
   "version": "3.10.0"
  },
  "orig_nbformat": 4
 },
 "nbformat": 4,
 "nbformat_minor": 2
}
