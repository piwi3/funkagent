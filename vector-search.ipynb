{
 "cells": [
  {
   "cell_type": "code",
   "execution_count": 1,
   "metadata": {},
   "outputs": [],
   "source": [
    "%load_ext autoreload\n",
    "%autoreload 2"
   ]
  },
  {
   "cell_type": "code",
   "execution_count": 2,
   "metadata": {},
   "outputs": [],
   "source": [
    "from funkagent import agents\n",
    "from dotenv import load_dotenv\n",
    "import asyncio\n",
    "import os"
   ]
  },
  {
   "cell_type": "code",
   "execution_count": 3,
   "metadata": {},
   "outputs": [
    {
     "data": {
      "text/plain": [
       "True"
      ]
     },
     "execution_count": 3,
     "metadata": {},
     "output_type": "execute_result"
    }
   ],
   "source": [
    "# Load config file\n",
    "load_dotenv()"
   ]
  },
  {
   "cell_type": "markdown",
   "metadata": {},
   "source": [
    "## Define simple agent"
   ]
  },
  {
   "cell_type": "code",
   "execution_count": 4,
   "metadata": {},
   "outputs": [],
   "source": [
    "# create a simple function for testing with\n",
    "def circumference_calculator(radius: float, something: float = 4.4) -> float:\n",
    "    \"\"\"Calculates the circumference of a circle given the radius.\n",
    "\n",
    "    :param radius: The radius of the circle as a single, positive number (float) - no math calculations (*,+,-,/) as input allowed.\n",
    "    :return: The circumference of the circle\n",
    "    \"\"\"\n",
    "    return 2 * 3.14 * radius"
   ]
  },
  {
   "cell_type": "code",
   "execution_count": 5,
   "metadata": {},
   "outputs": [
    {
     "name": "stdout",
     "output_type": "stream",
     "text": [
      ".."
     ]
    },
    {
     "data": {
      "text/plain": [
       "'The circumference of a circle with a radius of 5 is approximately 31.4 units.'"
      ]
     },
     "execution_count": 5,
     "metadata": {},
     "output_type": "execute_result"
    }
   ],
   "source": [
    "my_agent = await agents.Agent(\n",
    "    functions=[circumference_calculator],\n",
    "    user_id=\"1234\",\n",
    ")\n",
    "\n",
    "await my_agent.ask(\"What is the circumference of a circle with radius 5 in one sentence?\")"
   ]
  },
  {
   "cell_type": "code",
   "execution_count": 6,
   "metadata": {},
   "outputs": [
    {
     "data": {
      "text/plain": [
       "[{'role': 'system',\n",
       "  'content': 'Assistant is a large language model trained by OpenAI.\\n\\nAssistant is designed to be able to assist with a wide range of tasks, from answering simple questions to providing in-depth explanations and discussion on a wide range of topics. As a language model, Assistant is able to generate human-like text based on the input it receives, allowing it to engage in natural-sounding conversations and provide responses that are coherent and relevant to the topic at hand.\\n\\nAssistant is constantly learning and improving, and its capabilities are constantly evolving. It is able to process and understand large amounts of text, and can use this knowledge to provide accurate and informative responses to a wide range of questions. Additionally, Assistant is able to generate its own text based on the input it receives, allowing it to engage in discussions and provide explanations and descriptions on a wide range of topics.\\n\\nOverall, Assistant is a powerful system that can help with a wide range of tasks and provide valuable insights and information on a wide range of topics. Whether you need help with a specific question or just want to have a conversation about a particular topic, Assistant is here to assist.\\n'},\n",
       " {'role': 'user',\n",
       "  'content': 'What is the circumference of a circle with radius 5 in one sentence?'},\n",
       " {'role': 'assistant',\n",
       "  'content': 'The circumference of a circle with a radius of 5 is approximately 31.4 units.'}]"
      ]
     },
     "execution_count": 6,
     "metadata": {},
     "output_type": "execute_result"
    }
   ],
   "source": [
    "my_agent.chat_history"
   ]
  },
  {
   "cell_type": "code",
   "execution_count": 7,
   "metadata": {},
   "outputs": [
    {
     "data": {
      "text/plain": [
       "'aa6c29f3-77b1-4869-b2f4-181b5ad80299'"
      ]
     },
     "execution_count": 7,
     "metadata": {},
     "output_type": "execute_result"
    }
   ],
   "source": [
    "conversation_id = my_agent.conversation_id\n",
    "conversation_id"
   ]
  },
  {
   "cell_type": "code",
   "execution_count": 10,
   "metadata": {},
   "outputs": [
    {
     "data": {
      "text/plain": [
       "[{'role': 'system',\n",
       "  'content': 'Assistant is a large language model trained by OpenAI.\\n\\nAssistant is designed to be able to assist with a wide range of tasks, from answering simple questions to providing in-depth explanations and discussion on a wide range of topics. As a language model, Assistant is able to generate human-like text based on the input it receives, allowing it to engage in natural-sounding conversations and provide responses that are coherent and relevant to the topic at hand.\\n\\nAssistant is constantly learning and improving, and its capabilities are constantly evolving. It is able to process and understand large amounts of text, and can use this knowledge to provide accurate and informative responses to a wide range of questions. Additionally, Assistant is able to generate its own text based on the input it receives, allowing it to engage in discussions and provide explanations and descriptions on a wide range of topics.\\n\\nOverall, Assistant is a powerful system that can help with a wide range of tasks and provide valuable insights and information on a wide range of topics. Whether you need help with a specific question or just want to have a conversation about a particular topic, Assistant is here to assist.\\n'},\n",
       " {'role': 'user',\n",
       "  'content': 'What is the circumference of a circle with radius 5 in one sentence?'},\n",
       " {'role': 'assistant',\n",
       "  'content': 'The circumference of a circle with a radius of 5 is approximately 31.4 units.'}]"
      ]
     },
     "execution_count": 10,
     "metadata": {},
     "output_type": "execute_result"
    }
   ],
   "source": [
    "my_agent2 = await agents.Agent(\n",
    "    functions=[circumference_calculator],\n",
    "    user_id=\"1234\",\n",
    "    conversation_id=conversation_id,\n",
    ")\n",
    "\n",
    "my_agent2.chat_history"
   ]
  },
  {
   "cell_type": "code",
   "execution_count": 11,
   "metadata": {},
   "outputs": [
    {
     "data": {
      "text/plain": [
       "<coroutine object Agent.delete_conversation at 0x10e55bdf0>"
      ]
     },
     "execution_count": 11,
     "metadata": {},
     "output_type": "execute_result"
    }
   ],
   "source": [
    "my_agent2.delete_conversation()"
   ]
  },
  {
   "cell_type": "code",
   "execution_count": 12,
   "metadata": {},
   "outputs": [
    {
     "data": {
      "text/plain": [
       "[{'role': 'system',\n",
       "  'content': 'Assistant is a large language model trained by OpenAI.\\n\\nAssistant is designed to be able to assist with a wide range of tasks, from answering simple questions to providing in-depth explanations and discussion on a wide range of topics. As a language model, Assistant is able to generate human-like text based on the input it receives, allowing it to engage in natural-sounding conversations and provide responses that are coherent and relevant to the topic at hand.\\n\\nAssistant is constantly learning and improving, and its capabilities are constantly evolving. It is able to process and understand large amounts of text, and can use this knowledge to provide accurate and informative responses to a wide range of questions. Additionally, Assistant is able to generate its own text based on the input it receives, allowing it to engage in discussions and provide explanations and descriptions on a wide range of topics.\\n\\nOverall, Assistant is a powerful system that can help with a wide range of tasks and provide valuable insights and information on a wide range of topics. Whether you need help with a specific question or just want to have a conversation about a particular topic, Assistant is here to assist.\\n'},\n",
       " {'role': 'user',\n",
       "  'content': 'What is the circumference of a circle with radius 5 in one sentence?'},\n",
       " {'role': 'assistant',\n",
       "  'content': 'The circumference of a circle with a radius of 5 is approximately 31.4 units.'}]"
      ]
     },
     "execution_count": 12,
     "metadata": {},
     "output_type": "execute_result"
    }
   ],
   "source": [
    "my_agent2.chat_history"
   ]
  },
  {
   "cell_type": "code",
   "execution_count": 14,
   "metadata": {},
   "outputs": [
    {
     "data": {
      "text/plain": [
       "[{'id': 'aa6c29f3-77b1-4869-b2f4-181b5ad80299',\n",
       "  'type': 'conversation',\n",
       "  'createdAt': '2023-09-17T22:39:58.441263',\n",
       "  'updatedAt': '2023-09-17T22:40:02.414665',\n",
       "  'userId': '1234',\n",
       "  'title': '',\n",
       "  '_rid': 'N9kGAMkNejB1AgAAAAAAAA==',\n",
       "  '_self': 'dbs/N9kGAA==/colls/N9kGAMkNejA=/docs/N9kGAMkNejB1AgAAAAAAAA==/',\n",
       "  '_etag': '\"110054aa-0000-1500-0000-650780430000\"',\n",
       "  '_attachments': 'attachments/',\n",
       "  '_ts': 1694990403},\n",
       " {'id': 'd3cc5b89-eed8-4ab3-82df-68b5f1a121a1',\n",
       "  'type': 'conversation',\n",
       "  'createdAt': '2023-09-17T22:38:03.731718',\n",
       "  'updatedAt': '2023-09-17T22:38:07.314290',\n",
       "  'userId': '1234',\n",
       "  'title': '',\n",
       "  '_rid': 'N9kGAMkNejBxAgAAAAAAAA==',\n",
       "  '_self': 'dbs/N9kGAA==/colls/N9kGAMkNejA=/docs/N9kGAMkNejBxAgAAAAAAAA==/',\n",
       "  '_etag': '\"1100e3a9-0000-1500-0000-65077fcf0000\"',\n",
       "  '_attachments': 'attachments/',\n",
       "  '_ts': 1694990287},\n",
       " {'id': '603793be-ecab-4f91-a34e-a0954f8e1cff',\n",
       "  'type': 'conversation',\n",
       "  'createdAt': '2023-09-17T22:37:31.977394',\n",
       "  'updatedAt': '2023-09-17T22:37:31.977399',\n",
       "  'userId': '1234',\n",
       "  'title': '',\n",
       "  '_rid': 'N9kGAMkNejBvAgAAAAAAAA==',\n",
       "  '_self': 'dbs/N9kGAA==/colls/N9kGAMkNejA=/docs/N9kGAMkNejBvAgAAAAAAAA==/',\n",
       "  '_etag': '\"11007fa9-0000-1500-0000-65077fac0000\"',\n",
       "  '_attachments': 'attachments/',\n",
       "  '_ts': 1694990252},\n",
       " {'id': '7dea7edc-b7bb-4007-936c-f133732c1144',\n",
       "  'type': 'conversation',\n",
       "  'createdAt': '2023-09-17T22:37:18.979383',\n",
       "  'updatedAt': '2023-09-17T22:37:18.979390',\n",
       "  'userId': '1234',\n",
       "  'title': '',\n",
       "  '_rid': 'N9kGAMkNejBtAgAAAAAAAA==',\n",
       "  '_self': 'dbs/N9kGAA==/colls/N9kGAMkNejA=/docs/N9kGAMkNejBtAgAAAAAAAA==/',\n",
       "  '_etag': '\"11006da9-0000-1500-0000-65077f9f0000\"',\n",
       "  '_attachments': 'attachments/',\n",
       "  '_ts': 1694990239},\n",
       " {'id': '47293a8c-9c5d-450e-8833-dc1a9ef4aaa1',\n",
       "  'type': 'conversation',\n",
       "  'createdAt': '2023-09-17T22:36:59.043804',\n",
       "  'updatedAt': '2023-09-17T22:36:59.043811',\n",
       "  'userId': '1234',\n",
       "  'title': '',\n",
       "  '_rid': 'N9kGAMkNejBrAgAAAAAAAA==',\n",
       "  '_self': 'dbs/N9kGAA==/colls/N9kGAMkNejA=/docs/N9kGAMkNejBrAgAAAAAAAA==/',\n",
       "  '_etag': '\"110058a9-0000-1500-0000-65077f8b0000\"',\n",
       "  '_attachments': 'attachments/',\n",
       "  '_ts': 1694990219},\n",
       " {'id': 'fc367d9f-8654-429f-815f-7595f004271d',\n",
       "  'type': 'conversation',\n",
       "  'createdAt': '2023-09-17T22:33:51.633173',\n",
       "  'updatedAt': '2023-09-17T22:33:51.633181',\n",
       "  'userId': '1234',\n",
       "  'title': '',\n",
       "  '_rid': 'N9kGAMkNejBpAgAAAAAAAA==',\n",
       "  '_self': 'dbs/N9kGAA==/colls/N9kGAMkNejA=/docs/N9kGAMkNejBpAgAAAAAAAA==/',\n",
       "  '_etag': '\"1100a3a8-0000-1500-0000-65077ecf0000\"',\n",
       "  '_attachments': 'attachments/',\n",
       "  '_ts': 1694990031},\n",
       " {'id': 'df35b494-0808-4147-8a2e-9e68d9c5d4e2',\n",
       "  'type': 'conversation',\n",
       "  'createdAt': '2023-09-17T22:32:22.725919',\n",
       "  'updatedAt': '2023-09-17T22:32:22.725926',\n",
       "  'userId': '1234',\n",
       "  'title': '',\n",
       "  '_rid': 'N9kGAMkNejBoAgAAAAAAAA==',\n",
       "  '_self': 'dbs/N9kGAA==/colls/N9kGAMkNejA=/docs/N9kGAMkNejBoAgAAAAAAAA==/',\n",
       "  '_etag': '\"110006a8-0000-1500-0000-65077e770000\"',\n",
       "  '_attachments': 'attachments/',\n",
       "  '_ts': 1694989943},\n",
       " {'id': 'ddd57dc9-1619-4a8b-818a-be5bf4d4fd4c',\n",
       "  'type': 'conversation',\n",
       "  'createdAt': '2023-09-17T22:31:31.327336',\n",
       "  'updatedAt': '2023-09-17T22:31:31.327343',\n",
       "  'userId': '1234',\n",
       "  'title': '',\n",
       "  '_rid': 'N9kGAMkNejBnAgAAAAAAAA==',\n",
       "  '_self': 'dbs/N9kGAA==/colls/N9kGAMkNejA=/docs/N9kGAMkNejBnAgAAAAAAAA==/',\n",
       "  '_etag': '\"1100bda7-0000-1500-0000-65077e430000\"',\n",
       "  '_attachments': 'attachments/',\n",
       "  '_ts': 1694989891},\n",
       " {'id': '7b93d16c-cff8-426e-bf7c-278c0de2be47',\n",
       "  'type': 'conversation',\n",
       "  'createdAt': '2023-09-17T22:30:56.035343',\n",
       "  'updatedAt': '2023-09-17T22:30:56.035351',\n",
       "  'userId': '1234',\n",
       "  'title': '',\n",
       "  '_rid': 'N9kGAMkNejBmAgAAAAAAAA==',\n",
       "  '_self': 'dbs/N9kGAA==/colls/N9kGAMkNejA=/docs/N9kGAMkNejBmAgAAAAAAAA==/',\n",
       "  '_etag': '\"110090a7-0000-1500-0000-65077e200000\"',\n",
       "  '_attachments': 'attachments/',\n",
       "  '_ts': 1694989856},\n",
       " {'id': '9f902329-f8e2-453f-ae69-7d42331529a7',\n",
       "  'type': 'conversation',\n",
       "  'createdAt': '2023-09-17T22:29:24.473521',\n",
       "  'updatedAt': '2023-09-17T22:29:24.473528',\n",
       "  'userId': '1234',\n",
       "  'title': '',\n",
       "  '_rid': 'N9kGAMkNejBlAgAAAAAAAA==',\n",
       "  '_self': 'dbs/N9kGAA==/colls/N9kGAMkNejA=/docs/N9kGAMkNejBlAgAAAAAAAA==/',\n",
       "  '_etag': '\"11005da7-0000-1500-0000-65077dc40000\"',\n",
       "  '_attachments': 'attachments/',\n",
       "  '_ts': 1694989764},\n",
       " {'id': '414d031e-de60-42a2-8fc1-5e226c9a5c00',\n",
       "  'type': 'conversation',\n",
       "  'createdAt': '2023-09-17T22:29:10.772356',\n",
       "  'updatedAt': '2023-09-17T22:29:10.772364',\n",
       "  'userId': '1234',\n",
       "  'title': '',\n",
       "  '_rid': 'N9kGAMkNejBkAgAAAAAAAA==',\n",
       "  '_self': 'dbs/N9kGAA==/colls/N9kGAMkNejA=/docs/N9kGAMkNejBkAgAAAAAAAA==/',\n",
       "  '_etag': '\"11005ca7-0000-1500-0000-65077db60000\"',\n",
       "  '_attachments': 'attachments/',\n",
       "  '_ts': 1694989750},\n",
       " {'id': 'b1bb17a9-c75d-40c0-9e0a-a989c5df8a94',\n",
       "  'type': 'conversation',\n",
       "  'createdAt': '2023-09-17T22:28:50.317048',\n",
       "  'updatedAt': '2023-09-17T22:28:50.317054',\n",
       "  'userId': '1234',\n",
       "  'title': '',\n",
       "  '_rid': 'N9kGAMkNejBjAgAAAAAAAA==',\n",
       "  '_self': 'dbs/N9kGAA==/colls/N9kGAMkNejA=/docs/N9kGAMkNejBjAgAAAAAAAA==/',\n",
       "  '_etag': '\"110043a7-0000-1500-0000-65077da20000\"',\n",
       "  '_attachments': 'attachments/',\n",
       "  '_ts': 1694989730},\n",
       " {'id': '62a365b8-d4c9-45ae-96bb-0d1fae0ca3d3',\n",
       "  'type': 'conversation',\n",
       "  'createdAt': '2023-09-17T22:28:19.344179',\n",
       "  'updatedAt': '2023-09-17T22:28:19.344186',\n",
       "  'userId': '1234',\n",
       "  'title': '',\n",
       "  '_rid': 'N9kGAMkNejBiAgAAAAAAAA==',\n",
       "  '_self': 'dbs/N9kGAA==/colls/N9kGAMkNejA=/docs/N9kGAMkNejBiAgAAAAAAAA==/',\n",
       "  '_etag': '\"110030a7-0000-1500-0000-65077d830000\"',\n",
       "  '_attachments': 'attachments/',\n",
       "  '_ts': 1694989699},\n",
       " {'id': '694c8026-762b-420f-8af4-e6bbfd0893ef',\n",
       "  'type': 'conversation',\n",
       "  'createdAt': '2023-09-17T22:22:46.260471',\n",
       "  'updatedAt': '2023-09-17T22:22:46.260481',\n",
       "  'userId': '1234',\n",
       "  'title': '',\n",
       "  '_rid': 'N9kGAMkNejBhAgAAAAAAAA==',\n",
       "  '_self': 'dbs/N9kGAA==/colls/N9kGAMkNejA=/docs/N9kGAMkNejBhAgAAAAAAAA==/',\n",
       "  '_etag': '\"1100e0a5-0000-1500-0000-65077c360000\"',\n",
       "  '_attachments': 'attachments/',\n",
       "  '_ts': 1694989366},\n",
       " {'id': 'baadeccd-39c1-4c0f-91ea-f09840ac1ac6',\n",
       "  'type': 'conversation',\n",
       "  'createdAt': '2023-09-17T22:21:41.828263',\n",
       "  'updatedAt': '2023-09-17T22:21:41.828267',\n",
       "  'userId': '1234',\n",
       "  'title': '',\n",
       "  '_rid': 'N9kGAMkNejBgAgAAAAAAAA==',\n",
       "  '_self': 'dbs/N9kGAA==/colls/N9kGAMkNejA=/docs/N9kGAMkNejBgAgAAAAAAAA==/',\n",
       "  '_etag': '\"110050a5-0000-1500-0000-65077bf60000\"',\n",
       "  '_attachments': 'attachments/',\n",
       "  '_ts': 1694989302},\n",
       " {'id': 'a3ad8005-0a19-431e-865b-6ff6b70df0cc',\n",
       "  'type': 'conversation',\n",
       "  'createdAt': '2023-09-17T22:21:19.346570',\n",
       "  'updatedAt': '2023-09-17T22:21:19.346577',\n",
       "  'userId': '1234',\n",
       "  'title': '',\n",
       "  '_rid': 'N9kGAMkNejBfAgAAAAAAAA==',\n",
       "  '_self': 'dbs/N9kGAA==/colls/N9kGAMkNejA=/docs/N9kGAMkNejBfAgAAAAAAAA==/',\n",
       "  '_etag': '\"110022a5-0000-1500-0000-65077bdf0000\"',\n",
       "  '_attachments': 'attachments/',\n",
       "  '_ts': 1694989279},\n",
       " {'id': '1d2203b7-73ce-4e55-963a-a7279fa84d28',\n",
       "  'type': 'conversation',\n",
       "  'createdAt': '2023-09-17T22:19:17.826395',\n",
       "  'updatedAt': '2023-09-17T22:19:17.826403',\n",
       "  'userId': '1234',\n",
       "  'title': '',\n",
       "  '_rid': 'N9kGAMkNejBeAgAAAAAAAA==',\n",
       "  '_self': 'dbs/N9kGAA==/colls/N9kGAMkNejA=/docs/N9kGAMkNejBeAgAAAAAAAA==/',\n",
       "  '_etag': '\"110079a4-0000-1500-0000-65077b660000\"',\n",
       "  '_attachments': 'attachments/',\n",
       "  '_ts': 1694989158},\n",
       " {'id': 'bec8ebbd-4771-402d-b945-1a4b2559a49f',\n",
       "  'type': 'conversation',\n",
       "  'createdAt': '2023-09-17T22:17:47.384680',\n",
       "  'updatedAt': '2023-09-17T22:17:47.384688',\n",
       "  'userId': '1234',\n",
       "  'title': '',\n",
       "  '_rid': 'N9kGAMkNejBdAgAAAAAAAA==',\n",
       "  '_self': 'dbs/N9kGAA==/colls/N9kGAMkNejA=/docs/N9kGAMkNejBdAgAAAAAAAA==/',\n",
       "  '_etag': '\"1100ffa3-0000-1500-0000-65077b0b0000\"',\n",
       "  '_attachments': 'attachments/',\n",
       "  '_ts': 1694989067},\n",
       " {'id': 'a580126b-0bab-41c0-952f-8dc895f11180',\n",
       "  'type': 'conversation',\n",
       "  'createdAt': '2023-09-17T22:16:13.485360',\n",
       "  'updatedAt': '2023-09-17T22:16:13.485367',\n",
       "  'userId': '1234',\n",
       "  'title': '',\n",
       "  '_rid': 'N9kGAMkNejBcAgAAAAAAAA==',\n",
       "  '_self': 'dbs/N9kGAA==/colls/N9kGAMkNejA=/docs/N9kGAMkNejBcAgAAAAAAAA==/',\n",
       "  '_etag': '\"110041a3-0000-1500-0000-65077aad0000\"',\n",
       "  '_attachments': 'attachments/',\n",
       "  '_ts': 1694988973},\n",
       " {'id': 'b33dd1f7-d520-4487-a404-7969cb740839',\n",
       "  'type': 'conversation',\n",
       "  'createdAt': '2023-09-17T22:13:22.658293',\n",
       "  'updatedAt': '2023-09-17T22:13:22.658302',\n",
       "  'userId': '1234',\n",
       "  'title': '',\n",
       "  '_rid': 'N9kGAMkNejBbAgAAAAAAAA==',\n",
       "  '_self': 'dbs/N9kGAA==/colls/N9kGAMkNejA=/docs/N9kGAMkNejBbAgAAAAAAAA==/',\n",
       "  '_etag': '\"110099a2-0000-1500-0000-65077a030000\"',\n",
       "  '_attachments': 'attachments/',\n",
       "  '_ts': 1694988803},\n",
       " {'id': '7f7a5a17-9324-40ea-b50a-f9f6e1ef81b2',\n",
       "  'type': 'conversation',\n",
       "  'createdAt': '2023-09-17T22:11:16.016601',\n",
       "  'updatedAt': '2023-09-17T22:11:16.016610',\n",
       "  'userId': '1234',\n",
       "  'title': '',\n",
       "  '_rid': 'N9kGAMkNejBaAgAAAAAAAA==',\n",
       "  '_self': 'dbs/N9kGAA==/colls/N9kGAMkNejA=/docs/N9kGAMkNejBaAgAAAAAAAA==/',\n",
       "  '_etag': '\"1100fea1-0000-1500-0000-650779840000\"',\n",
       "  '_attachments': 'attachments/',\n",
       "  '_ts': 1694988676},\n",
       " {'id': 'd7529b77-ea47-486e-8184-872121622aba',\n",
       "  'type': 'conversation',\n",
       "  'createdAt': '2023-09-17T22:10:24.926630',\n",
       "  'updatedAt': '2023-09-17T22:10:24.926638',\n",
       "  'userId': '1234',\n",
       "  'title': '',\n",
       "  '_rid': 'N9kGAMkNejBZAgAAAAAAAA==',\n",
       "  '_self': 'dbs/N9kGAA==/colls/N9kGAMkNejA=/docs/N9kGAMkNejBZAgAAAAAAAA==/',\n",
       "  '_etag': '\"1100ada1-0000-1500-0000-650779510000\"',\n",
       "  '_attachments': 'attachments/',\n",
       "  '_ts': 1694988625},\n",
       " {'id': '4fe8009b-8f41-495a-9402-0052762fa02b',\n",
       "  'type': 'conversation',\n",
       "  'createdAt': '2023-09-17T21:23:38.540245',\n",
       "  'updatedAt': '2023-09-17T21:23:38.540254',\n",
       "  'userId': '1234',\n",
       "  'title': '',\n",
       "  '_rid': 'N9kGAMkNejBYAgAAAAAAAA==',\n",
       "  '_self': 'dbs/N9kGAA==/colls/N9kGAMkNejA=/docs/N9kGAMkNejBYAgAAAAAAAA==/',\n",
       "  '_etag': '\"11002596-0000-1500-0000-65076e5b0000\"',\n",
       "  '_attachments': 'attachments/',\n",
       "  '_ts': 1694985819},\n",
       " {'id': 'c2dfe2dd-e25a-4a1d-acfc-48c84edd1e8a',\n",
       "  'type': 'conversation',\n",
       "  'createdAt': '2023-09-17T21:17:12.779661',\n",
       "  'updatedAt': '2023-09-17T21:17:12.779669',\n",
       "  'userId': '1234',\n",
       "  'title': '',\n",
       "  '_rid': 'N9kGAMkNejBXAgAAAAAAAA==',\n",
       "  '_self': 'dbs/N9kGAA==/colls/N9kGAMkNejA=/docs/N9kGAMkNejBXAgAAAAAAAA==/',\n",
       "  '_etag': '\"11009b94-0000-1500-0000-65076cd90000\"',\n",
       "  '_attachments': 'attachments/',\n",
       "  '_ts': 1694985433},\n",
       " {'id': 'af48a01b-5b32-4ef2-aacf-e9cff9538b3c',\n",
       "  'type': 'conversation',\n",
       "  'createdAt': '2023-09-17T21:17:08.415089',\n",
       "  'updatedAt': '2023-09-17T21:17:08.415096',\n",
       "  'userId': '1234',\n",
       "  'title': '',\n",
       "  '_rid': 'N9kGAMkNejBWAgAAAAAAAA==',\n",
       "  '_self': 'dbs/N9kGAA==/colls/N9kGAMkNejA=/docs/N9kGAMkNejBWAgAAAAAAAA==/',\n",
       "  '_etag': '\"11009094-0000-1500-0000-65076cd50000\"',\n",
       "  '_attachments': 'attachments/',\n",
       "  '_ts': 1694985429},\n",
       " {'id': '347dc3e1-4704-41e5-ac52-157465b535a1',\n",
       "  'type': 'conversation',\n",
       "  'createdAt': '2023-09-17T21:11:36.208405',\n",
       "  'updatedAt': '2023-09-17T21:11:36.208413',\n",
       "  'userId': '1234',\n",
       "  'title': '',\n",
       "  '_rid': 'N9kGAMkNejBVAgAAAAAAAA==',\n",
       "  '_self': 'dbs/N9kGAA==/colls/N9kGAMkNejA=/docs/N9kGAMkNejBVAgAAAAAAAA==/',\n",
       "  '_etag': '\"1100ef92-0000-1500-0000-65076b890000\"',\n",
       "  '_attachments': 'attachments/',\n",
       "  '_ts': 1694985097},\n",
       " {'id': 'e7b5f6e4-5b04-4f92-b08e-fcfe9732ffe8',\n",
       "  'type': 'conversation',\n",
       "  'createdAt': '2023-09-17T21:10:51.427696',\n",
       "  'updatedAt': '2023-09-17T21:10:51.427703',\n",
       "  'userId': '1234',\n",
       "  'title': '',\n",
       "  '_rid': 'N9kGAMkNejBUAgAAAAAAAA==',\n",
       "  '_self': 'dbs/N9kGAA==/colls/N9kGAMkNejA=/docs/N9kGAMkNejBUAgAAAAAAAA==/',\n",
       "  '_etag': '\"11008f92-0000-1500-0000-65076b5b0000\"',\n",
       "  '_attachments': 'attachments/',\n",
       "  '_ts': 1694985051},\n",
       " {'id': '239d0ec6-c117-4c77-90c1-aa50ca917953',\n",
       "  'type': 'conversation',\n",
       "  'createdAt': '2023-09-17T21:10:45.389152',\n",
       "  'updatedAt': '2023-09-17T21:10:45.389159',\n",
       "  'userId': '1234',\n",
       "  'title': '',\n",
       "  '_rid': 'N9kGAMkNejBTAgAAAAAAAA==',\n",
       "  '_self': 'dbs/N9kGAA==/colls/N9kGAMkNejA=/docs/N9kGAMkNejBTAgAAAAAAAA==/',\n",
       "  '_etag': '\"11008c92-0000-1500-0000-65076b550000\"',\n",
       "  '_attachments': 'attachments/',\n",
       "  '_ts': 1694985045},\n",
       " {'id': '95008569-137f-4c53-b820-41b870b92c5b',\n",
       "  'type': 'conversation',\n",
       "  'createdAt': '2023-09-17T21:08:12.447966',\n",
       "  'updatedAt': '2023-09-17T21:08:12.447974',\n",
       "  'userId': '1234',\n",
       "  'title': '',\n",
       "  '_rid': 'N9kGAMkNejBSAgAAAAAAAA==',\n",
       "  '_self': 'dbs/N9kGAA==/colls/N9kGAMkNejA=/docs/N9kGAMkNejBSAgAAAAAAAA==/',\n",
       "  '_etag': '\"11003692-0000-1500-0000-65076abd0000\"',\n",
       "  '_attachments': 'attachments/',\n",
       "  '_ts': 1694984893},\n",
       " {'id': 'a7babd7d-f8f4-41fb-8d24-f8108e713645',\n",
       "  'type': 'conversation',\n",
       "  'createdAt': '2023-09-17T20:11:04.079415',\n",
       "  'updatedAt': '2023-09-17T20:11:04.123443',\n",
       "  'userId': '1234',\n",
       "  'title': '',\n",
       "  '_rid': 'N9kGAMkNejBQAgAAAAAAAA==',\n",
       "  '_self': 'dbs/N9kGAA==/colls/N9kGAMkNejA=/docs/N9kGAMkNejBQAgAAAAAAAA==/',\n",
       "  '_etag': '\"11005383-0000-1500-0000-65075d580000\"',\n",
       "  '_attachments': 'attachments/',\n",
       "  '_ts': 1694981464},\n",
       " {'id': '7e60ffbd-dd3c-42ad-8686-020d6b072419',\n",
       "  'type': 'conversation',\n",
       "  'createdAt': '2023-09-17T19:42:13.542446',\n",
       "  'updatedAt': '2023-09-17T19:42:17.224006',\n",
       "  'userId': '1234',\n",
       "  'title': '',\n",
       "  '_rid': 'N9kGAMkNejBGAgAAAAAAAA==',\n",
       "  '_self': 'dbs/N9kGAA==/colls/N9kGAMkNejA=/docs/N9kGAMkNejBGAgAAAAAAAA==/',\n",
       "  '_etag': '\"1100c17b-0000-1500-0000-650756990000\"',\n",
       "  '_attachments': 'attachments/',\n",
       "  '_ts': 1694979737},\n",
       " {'id': 'f18c8d27-a721-48ae-ad8a-8bea0c6f9bf7',\n",
       "  'type': 'conversation',\n",
       "  'createdAt': '2023-09-17T19:33:21.126055',\n",
       "  'updatedAt': '2023-09-17T19:33:21.423756',\n",
       "  'userId': '1234',\n",
       "  'title': '',\n",
       "  '_rid': 'N9kGAMkNejBEAgAAAAAAAA==',\n",
       "  '_self': 'dbs/N9kGAA==/colls/N9kGAMkNejA=/docs/N9kGAMkNejBEAgAAAAAAAA==/',\n",
       "  '_etag': '\"11004179-0000-1500-0000-650754810000\"',\n",
       "  '_attachments': 'attachments/',\n",
       "  '_ts': 1694979201}]"
      ]
     },
     "execution_count": 14,
     "metadata": {},
     "output_type": "execute_result"
    }
   ],
   "source": [
    "await my_agent2.get_conversations()"
   ]
  },
  {
   "cell_type": "code",
   "execution_count": null,
   "metadata": {},
   "outputs": [],
   "source": [
    "await my_agent2.de"
   ]
  },
  {
   "cell_type": "code",
   "execution_count": 6,
   "metadata": {},
   "outputs": [
    {
     "name": "stdout",
     "output_type": "stream",
     "text": [
      "......\n",
      "\n",
      "What is love in one sentence?\n",
      "->\n",
      "Love is a complex and multifaceted emotion that encompasses a deep affection, care, and connection between individuals, often characterized by selflessness and a strong desire for the well-being and happiness of the other person.\n",
      "\n",
      "\n",
      "What is the circumference of a circle with radius 7 in one sentence?\n",
      "->\n",
      "The circumference of a circle with a radius of 7 inches is approximately 43.96 inches.\n",
      "\n",
      "\n",
      "Who is Messi in one sentence?\n",
      "->\n",
      "Lionel Messi is an Argentine professional soccer player widely regarded as one of the greatest footballers of all time.\n",
      "\n",
      "\n",
      "What is the circumference of a circle with radius 9 in one sentence?\n",
      "->\n",
      "The circumference of a circle with a radius of 9 is 56.52 units.\n"
     ]
    }
   ],
   "source": [
    "questions = [\n",
    "    \"What is love in one sentence?\",\n",
    "    \"What is the circumference of a circle with radius 7 in one sentence?\",\n",
    "    \"Who is Messi in one sentence?\",\n",
    "    \"What is the circumference of a circle with radius 9 in one sentence?\",\n",
    "]\n",
    "\n",
    "my_agents = [agents.Agent(functions=[circumference_calculator]) for _ in range(len(questions))]\n",
    "\n",
    "results = await asyncio.gather(*[agent.ask(question) for question, agent in zip(questions, my_agents)])\n",
    "\n",
    "for answer, question in zip(results, questions):\n",
    "    print(\"\\n\")\n",
    "    print(question)\n",
    "    print(\"->\")\n",
    "    print(answer)"
   ]
  },
  {
   "cell_type": "markdown",
   "metadata": {},
   "source": [
    "## Add cognitive search as vector store"
   ]
  },
  {
   "cell_type": "code",
   "execution_count": 7,
   "metadata": {},
   "outputs": [],
   "source": [
    "# Load customized retriever _> filtering possible:\n",
    "# await retriever.aget_relevant_documents_filter(query=\"Test 3 source1\", **{\"filter\": \"source eq 'A'\"})\n",
    "from retriever.AzureCognitiveSearchRetriever import AzureCognitiveSearchRetrieverWithFilter\n"
   ]
  },
  {
   "cell_type": "code",
   "execution_count": 8,
   "metadata": {},
   "outputs": [],
   "source": [
    "retriever = AzureCognitiveSearchRetrieverWithFilter(content_key=\"text\", top_k=3)"
   ]
  },
  {
   "cell_type": "code",
   "execution_count": 9,
   "metadata": {},
   "outputs": [
    {
     "name": "stdout",
     "output_type": "stream",
     "text": [
      "ALLE – PRODUKTE, PROZESSE, LÖSUNGEN\n",
      "\n",
      "IVU.integration\n",
      "\n",
      "Vernetzte Systeme\n",
      "Wir stellen sicher, dass \n",
      "Ihre Systeme optimal \n",
      "zusammenarbeiten und \n",
      "alle Daten reibungslos \n",
      "fließen.\n",
      "\n",
      "IVU.xpress\n",
      "\n",
      "Effizienter Projektprozess\n",
      "Unser Implementierungs-\n",
      "prozess macht Ihr Projekt \n",
      "besser planbar und sorgt \n",
      "für einen schnellen Go-\n",
      "Live.\n",
      "\n",
      "IVU.support\n",
      "\n",
      "Kompetenter Support\n",
      "Auch nach der Inbetrieb-\n",
      "nahme stehen Ihnen \n",
      "unsere kompetenten \n",
      "Ansprechpartner \n",
      "jederzeit zur Verfügung.\n",
      "\n",
      "IVU.cloud\n",
      "\n",
      "Verlässliches Hosting\n",
      "Performant, hoch-\n",
      "verfügbar, sicher: Wir \n",
      "übernehmen Hosting und \n",
      "Betrieb Ihres Systems in \n",
      "unserer Cloud.\n",
      "\n",
      "  IVU.suite\n",
      "   Integrierte IT-Lösungen für alle Aufgabenbereiche eines Verkehrsbetriebs: \n",
      "\n",
      "   von der Planung bis hin zur Abrechnung von Verkehrsverträgen.\n",
      "\n",
      "IVU.consult\n",
      "\n",
      "Strategische Beratung\n",
      "Wir unterstützen Sie dabei, \n",
      "Ihr Angebot zu verbessern \n",
      "und Ihre Prozesse mit den \n",
      "Produkten der IVU.suite zu \n",
      "optimieren.\n",
      "\n",
      "pageimage6.jpg\n",
      "\n",
      "\n",
      "\n",
      "\n",
      "\n",
      "IVU TRAFFIC TECHNOLOGIES AG\n",
      "KLUGE KÖPFE FÜR KOMPLEXE SYSTEME\n",
      "\n",
      "◼ Qualifiziert\n",
      "\n",
      "◼ Wir suchen die „richtig Guten“, \n",
      "Akademikeranteil über 80 %\n",
      "\n",
      "◼ Kompetent\n",
      "\n",
      "◼ Perfekt ausgebildete Ingenieure für \n",
      "anspruchsvolle Produkte und komplexe \n",
      "Projekte\n",
      "\n",
      "◼ International\n",
      "\n",
      "◼ Über 800 Mitarbeiter aus 45 Nationen\n",
      "\n",
      "pageimage7.jpg\n",
      "\n",
      "\n",
      "\n",
      "\n",
      "\n",
      "IVU TRAFFIC TECHNOLOGIES AG\n",
      "INNOVATIONEN FÜR DIE MOBILITÄT VON MORGEN\n",
      "\n",
      "◼ Digitalisierung\n",
      "\n",
      "◼ Big Data und smarte Apps \n",
      "revolutionieren den Verkehr\n",
      "\n",
      "◼ E-Mobilität\n",
      "\n",
      "◼ Elektrobusse optimiert planen und \n",
      "effizient einsetzen\n",
      "\n",
      "◼ Autonomes Fahren\n",
      "\n",
      "◼ Fahrerlose Busse in gemischte Flotten \n",
      "integrieren\n",
      "\n",
      "pageimage8.jpg\n",
      "\n",
      "\n",
      "\n",
      "\n",
      "\n",
      "IVU TRAFFIC TECHNOLOGIES AG\n",
      "LÖSUNGEN FÜR GLOBALE MEGATRENDS\n",
      "\n",
      "◼ Urbanisierung\n",
      "\n",
      "◼ Rund 60 % der Weltbevölkerung \n",
      "werden 2021 in Städten leben\n",
      "\n",
      "◼ Mobilität\n",
      "\n",
      "◼ Der Transportbedarf in \n",
      "städtischen Regionen wächst\n",
      "\n",
      "◼ Klimaschutz\n",
      "\n",
      "◼ Öffentlicher Verkehr ist das Rückgrat für \n",
      "eine umweltfreundliche Mobilität\n",
      "\n",
      "pageimage9.jpg\n",
      "\n",
      "\n",
      "\n",
      "\n",
      "\n",
      "IVU.SUITE SCREENSHOT\n",
      "\n",
      "IVU.suite\n",
      "\n",
      "DIE KOMPLETT-\n",
      "LÖSUNG FÜR DEN \n",
      "ÖFFENTLICHEN \n",
      "PERSONENVERKEHR\n",
      "\n",
      "pageimage10.jpg\n",
      "\n",
      "\n",
      "\n",
      "\n",
      "\n",
      "IVU.suite\n",
      "FÜR DEN ÖFFENTLICHEN VERKEHR\n",
      "\n",
      "IVU.run\n",
      "\n",
      "Umlauf-  und \n",
      "Laufplanun\n"
     ]
    }
   ],
   "source": [
    "results = await retriever.aget_relevant_documents(query=\"Akademikeranteil\")\n",
    "\n",
    "print(\" \".join([res.page_content for res in results]))"
   ]
  },
  {
   "cell_type": "code",
   "execution_count": 10,
   "metadata": {},
   "outputs": [],
   "source": [
    "async def get_IVU_context(input_to_search_for_context: str):\n",
    "    \"\"\"Get context from IVU database, very helpful to answer questions about IVU.\n",
    "\n",
    "    :param: input_to_search_for_context: Text (word or a whole sentence) to get the relevant context from the IVU database through vector search.\n",
    "    :return: IVU context that helps to answer questions about IVU.\n",
    "    \"\"\"\n",
    "    results = await retriever.aget_relevant_documents(query=input_to_search_for_context)\n",
    "    return \" \".join([res.page_content for res in results])\n",
    "    "
   ]
  },
  {
   "cell_type": "code",
   "execution_count": 11,
   "metadata": {},
   "outputs": [
    {
     "name": "stdout",
     "output_type": "stream",
     "text": [
      ".."
     ]
    },
    {
     "data": {
      "text/plain": [
       "'Es gibt keine spezifischen Informationen über den Akademikeranteil der IVU (IVU Traffic Technologies AG). In den verfügbaren Informationen wird erwähnt, dass die IVU nach \"qualifizierten\" Mitarbeitern sucht, wobei der Akademikeranteil über 80% liegt.\\n\\nEs ist jedoch wichtig zu beachten, dass dies nur allgemeine Informationen sind und keine detaillierten Zahlen bereitgestellt werden. Um genaue Informationen über den Akademikeranteil der IVU zu erhalten, empfehle ich, sich direkt an das Unternehmen zu wenden oder weitere aktuelle Informationen zu recherchieren.'"
      ]
     },
     "execution_count": 11,
     "metadata": {},
     "output_type": "execute_result"
    }
   ],
   "source": [
    "my_agent = agents.Agent(\n",
    "    functions=[get_IVU_context]\n",
    ")\n",
    "\n",
    "await my_agent.ask(\"Wie hoch ist der Akademikeranteil der IVU?\")"
   ]
  },
  {
   "cell_type": "code",
   "execution_count": 12,
   "metadata": {},
   "outputs": [
    {
     "data": {
      "text/plain": [
       "[{'role': 'system',\n",
       "  'content': 'Assistant is a large language model trained by OpenAI.\\n\\nAssistant is designed to be able to assist with a wide range of tasks, from answering simple questions to providing in-depth explanations and discussion on a wide range of topics. As a language model, Assistant is able to generate human-like text based on the input it receives, allowing it to engage in natural-sounding conversations and provide responses that are coherent and relevant to the topic at hand.\\n\\nAssistant is constantly learning and improving, and its capabilities are constantly evolving. It is able to process and understand large amounts of text, and can use this knowledge to provide accurate and informative responses to a wide range of questions. Additionally, Assistant is able to generate its own text based on the input it receives, allowing it to engage in discussions and provide explanations and descriptions on a wide range of topics.\\n\\nOverall, Assistant is a powerful system that can help with a wide range of tasks and provide valuable insights and information on a wide range of topics. Whether you need help with a specific question or just want to have a conversation about a particular topic, Assistant is here to assist.\\n'},\n",
       " {'role': 'user', 'content': 'Wie hoch ist der Akademikeranteil der IVU?'},\n",
       " {'role': 'assistant',\n",
       "  'content': 'Es gibt keine spezifischen Informationen über den Akademikeranteil der IVU (IVU Traffic Technologies AG). In den verfügbaren Informationen wird erwähnt, dass die IVU nach \"qualifizierten\" Mitarbeitern sucht, wobei der Akademikeranteil über 80% liegt.\\n\\nEs ist jedoch wichtig zu beachten, dass dies nur allgemeine Informationen sind und keine detaillierten Zahlen bereitgestellt werden. Um genaue Informationen über den Akademikeranteil der IVU zu erhalten, empfehle ich, sich direkt an das Unternehmen zu wenden oder weitere aktuelle Informationen zu recherchieren.'}]"
      ]
     },
     "execution_count": 12,
     "metadata": {},
     "output_type": "execute_result"
    }
   ],
   "source": [
    "my_agent.chat_history"
   ]
  },
  {
   "cell_type": "code",
   "execution_count": 13,
   "metadata": {},
   "outputs": [
    {
     "data": {
      "text/plain": [
       "[{'role': 'assistant',\n",
       "  'function_call': <OpenAIObject at 0x155198ef0> JSON: {\n",
       "    \"name\": \"get_IVU_context\",\n",
       "    \"arguments\": \"{\\n  \\\"input_to_search_for_context\\\": \\\"Akademikeranteil\\\"\\n}\"\n",
       "  },\n",
       "  'content': None},\n",
       " {'role': 'function',\n",
       "  'name': 'get_IVU_context',\n",
       "  'content': 'ALLE – PRODUKTE, PROZESSE, LÖSUNGEN\\n\\nIVU.integration\\n\\nVernetzte Systeme\\nWir stellen sicher, dass \\nIhre Systeme optimal \\nzusammenarbeiten und \\nalle Daten reibungslos \\nfließen.\\n\\nIVU.xpress\\n\\nEffizienter Projektprozess\\nUnser Implementierungs-\\nprozess macht Ihr Projekt \\nbesser planbar und sorgt \\nfür einen schnellen Go-\\nLive.\\n\\nIVU.support\\n\\nKompetenter Support\\nAuch nach der Inbetrieb-\\nnahme stehen Ihnen \\nunsere kompetenten \\nAnsprechpartner \\njederzeit zur Verfügung.\\n\\nIVU.cloud\\n\\nVerlässliches Hosting\\nPerformant, hoch-\\nverfügbar, sicher: Wir \\nübernehmen Hosting und \\nBetrieb Ihres Systems in \\nunserer Cloud.\\n\\n  IVU.suite\\n   Integrierte IT-Lösungen für alle Aufgabenbereiche eines Verkehrsbetriebs: \\n\\n   von der Planung bis hin zur Abrechnung von Verkehrsverträgen.\\n\\nIVU.consult\\n\\nStrategische Beratung\\nWir unterstützen Sie dabei, \\nIhr Angebot zu verbessern \\nund Ihre Prozesse mit den \\nProdukten der IVU.suite zu \\noptimieren.\\n\\npageimage6.jpg\\n\\n\\n\\n\\n\\nIVU TRAFFIC TECHNOLOGIES AG\\nKLUGE KÖPFE FÜR KOMPLEXE SYSTEME\\n\\n◼ Qualifiziert\\n\\n◼ Wir suchen die „richtig Guten“, \\nAkademikeranteil über 80 %\\n\\n◼ Kompetent\\n\\n◼ Perfekt ausgebildete Ingenieure für \\nanspruchsvolle Produkte und komplexe \\nProjekte\\n\\n◼ International\\n\\n◼ Über 800 Mitarbeiter aus 45 Nationen\\n\\npageimage7.jpg\\n\\n\\n\\n\\n\\nIVU TRAFFIC TECHNOLOGIES AG\\nINNOVATIONEN FÜR DIE MOBILITÄT VON MORGEN\\n\\n◼ Digitalisierung\\n\\n◼ Big Data und smarte Apps \\nrevolutionieren den Verkehr\\n\\n◼ E-Mobilität\\n\\n◼ Elektrobusse optimiert planen und \\neffizient einsetzen\\n\\n◼ Autonomes Fahren\\n\\n◼ Fahrerlose Busse in gemischte Flotten \\nintegrieren\\n\\npageimage8.jpg\\n\\n\\n\\n\\n\\nIVU TRAFFIC TECHNOLOGIES AG\\nLÖSUNGEN FÜR GLOBALE MEGATRENDS\\n\\n◼ Urbanisierung\\n\\n◼ Rund 60 % der Weltbevölkerung \\nwerden 2021 in Städten leben\\n\\n◼ Mobilität\\n\\n◼ Der Transportbedarf in \\nstädtischen Regionen wächst\\n\\n◼ Klimaschutz\\n\\n◼ Öffentlicher Verkehr ist das Rückgrat für \\neine umweltfreundliche Mobilität\\n\\npageimage9.jpg\\n\\n\\n\\n\\n\\nIVU.SUITE SCREENSHOT\\n\\nIVU.suite\\n\\nDIE KOMPLETT-\\nLÖSUNG FÜR DEN \\nÖFFENTLICHEN \\nPERSONENVERKEHR\\n\\npageimage10.jpg\\n\\n\\n\\n\\n\\nIVU.suite\\nFÜR DEN ÖFFENTLICHEN VERKEHR\\n\\nIVU.run\\n\\nUmlauf-  und \\nLaufplanun'}]"
      ]
     },
     "execution_count": 13,
     "metadata": {},
     "output_type": "execute_result"
    }
   ],
   "source": [
    "my_agent.internal_thoughts"
   ]
  },
  {
   "cell_type": "code",
   "execution_count": null,
   "metadata": {},
   "outputs": [],
   "source": []
  }
 ],
 "metadata": {
  "kernelspec": {
   "display_name": "funkagent",
   "language": "python",
   "name": "python3"
  },
  "language_info": {
   "codemirror_mode": {
    "name": "ipython",
    "version": 3
   },
   "file_extension": ".py",
   "mimetype": "text/x-python",
   "name": "python",
   "nbconvert_exporter": "python",
   "pygments_lexer": "ipython3",
   "version": "3.10.0"
  },
  "orig_nbformat": 4
 },
 "nbformat": 4,
 "nbformat_minor": 2
}
