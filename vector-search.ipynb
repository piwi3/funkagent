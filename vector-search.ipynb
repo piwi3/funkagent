{
 "cells": [
  {
   "cell_type": "code",
   "execution_count": 1,
   "metadata": {},
   "outputs": [],
   "source": [
    "%load_ext autoreload\n",
    "%autoreload 2"
   ]
  },
  {
   "cell_type": "code",
   "execution_count": 2,
   "metadata": {},
   "outputs": [],
   "source": [
    "from funkagent import agents\n",
    "from dotenv import load_dotenv\n",
    "import asyncio\n",
    "import os"
   ]
  },
  {
   "cell_type": "code",
   "execution_count": 3,
   "metadata": {},
   "outputs": [
    {
     "data": {
      "text/plain": [
       "True"
      ]
     },
     "execution_count": 3,
     "metadata": {},
     "output_type": "execute_result"
    }
   ],
   "source": [
    "# Load config file\n",
    "load_dotenv()"
   ]
  },
  {
   "cell_type": "markdown",
   "metadata": {},
   "source": [
    "## Define simple agent"
   ]
  },
  {
   "cell_type": "code",
   "execution_count": 4,
   "metadata": {},
   "outputs": [],
   "source": [
    "# create a simple function for testing with\n",
    "def circumference_calculator(radius: float, something: float = 4.4) -> float:\n",
    "    \"\"\"Calculates the circumference of a circle given the radius.\n",
    "\n",
    "    :param radius: The radius of the circle as a single, positive number (float) - no math calculations (*,+,-,/) as input allowed.\n",
    "    :return: The circumference of the circle\n",
    "    \"\"\"\n",
    "    return 2 * 3.14 * radius"
   ]
  },
  {
   "cell_type": "code",
   "execution_count": 5,
   "metadata": {},
   "outputs": [
    {
     "name": "stdout",
     "output_type": "stream",
     "text": [
      ".."
     ]
    },
    {
     "data": {
      "text/plain": [
       "'The circumference of a circle with a radius of 5 is approximately 31.4 units.'"
      ]
     },
     "execution_count": 5,
     "metadata": {},
     "output_type": "execute_result"
    }
   ],
   "source": [
    "my_agent = agents.Agent(\n",
    "    functions=[circumference_calculator]\n",
    ")\n",
    "\n",
    "await my_agent.ask(\"What is the circumference of a circle with radius 5 in one sentence?\")"
   ]
  },
  {
   "cell_type": "code",
   "execution_count": 6,
   "metadata": {},
   "outputs": [
    {
     "name": "stdout",
     "output_type": "stream",
     "text": [
      "......\n",
      "\n",
      "What is love in one sentence?\n",
      "->\n",
      "Love is a complex and multifaceted emotion that encompasses a deep affection, care, and connection between individuals, often characterized by selflessness and a strong desire for the well-being and happiness of the other person.\n",
      "\n",
      "\n",
      "What is the circumference of a circle with radius 7 in one sentence?\n",
      "->\n",
      "The circumference of a circle with a radius of 7 inches is approximately 43.96 inches.\n",
      "\n",
      "\n",
      "Who is Messi in one sentence?\n",
      "->\n",
      "Lionel Messi is an Argentine professional soccer player widely regarded as one of the greatest footballers of all time.\n",
      "\n",
      "\n",
      "What is the circumference of a circle with radius 9 in one sentence?\n",
      "->\n",
      "The circumference of a circle with a radius of 9 is 56.52 units.\n"
     ]
    }
   ],
   "source": [
    "questions = [\n",
    "    \"What is love in one sentence?\",\n",
    "    \"What is the circumference of a circle with radius 7 in one sentence?\",\n",
    "    \"Who is Messi in one sentence?\",\n",
    "    \"What is the circumference of a circle with radius 9 in one sentence?\",\n",
    "]\n",
    "\n",
    "my_agents = [agents.Agent(functions=[circumference_calculator]) for _ in range(len(questions))]\n",
    "\n",
    "results = await asyncio.gather(*[agent.ask(question) for question, agent in zip(questions, my_agents)])\n",
    "\n",
    "for answer, question in zip(results, questions):\n",
    "    print(\"\\n\")\n",
    "    print(question)\n",
    "    print(\"->\")\n",
    "    print(answer)"
   ]
  },
  {
   "cell_type": "markdown",
   "metadata": {},
   "source": [
    "## Add cognitive search as vector store"
   ]
  },
  {
   "cell_type": "code",
   "execution_count": 7,
   "metadata": {},
   "outputs": [],
   "source": [
    "# Load customized retriever _> filtering possible:\n",
    "# await retriever.aget_relevant_documents_filter(query=\"Test 3 source1\", **{\"filter\": \"source eq 'A'\"})\n",
    "from retriever.AzureCognitiveSearchRetriever import AzureCognitiveSearchRetrieverWithFilter\n"
   ]
  },
  {
   "cell_type": "code",
   "execution_count": 8,
   "metadata": {},
   "outputs": [],
   "source": [
    "retriever = AzureCognitiveSearchRetrieverWithFilter(content_key=\"text\", top_k=3)"
   ]
  },
  {
   "cell_type": "code",
   "execution_count": 9,
   "metadata": {},
   "outputs": [
    {
     "name": "stdout",
     "output_type": "stream",
     "text": [
      "ALLE – PRODUKTE, PROZESSE, LÖSUNGEN\n",
      "\n",
      "IVU.integration\n",
      "\n",
      "Vernetzte Systeme\n",
      "Wir stellen sicher, dass \n",
      "Ihre Systeme optimal \n",
      "zusammenarbeiten und \n",
      "alle Daten reibungslos \n",
      "fließen.\n",
      "\n",
      "IVU.xpress\n",
      "\n",
      "Effizienter Projektprozess\n",
      "Unser Implementierungs-\n",
      "prozess macht Ihr Projekt \n",
      "besser planbar und sorgt \n",
      "für einen schnellen Go-\n",
      "Live.\n",
      "\n",
      "IVU.support\n",
      "\n",
      "Kompetenter Support\n",
      "Auch nach der Inbetrieb-\n",
      "nahme stehen Ihnen \n",
      "unsere kompetenten \n",
      "Ansprechpartner \n",
      "jederzeit zur Verfügung.\n",
      "\n",
      "IVU.cloud\n",
      "\n",
      "Verlässliches Hosting\n",
      "Performant, hoch-\n",
      "verfügbar, sicher: Wir \n",
      "übernehmen Hosting und \n",
      "Betrieb Ihres Systems in \n",
      "unserer Cloud.\n",
      "\n",
      "  IVU.suite\n",
      "   Integrierte IT-Lösungen für alle Aufgabenbereiche eines Verkehrsbetriebs: \n",
      "\n",
      "   von der Planung bis hin zur Abrechnung von Verkehrsverträgen.\n",
      "\n",
      "IVU.consult\n",
      "\n",
      "Strategische Beratung\n",
      "Wir unterstützen Sie dabei, \n",
      "Ihr Angebot zu verbessern \n",
      "und Ihre Prozesse mit den \n",
      "Produkten der IVU.suite zu \n",
      "optimieren.\n",
      "\n",
      "pageimage6.jpg\n",
      "\n",
      "\n",
      "\n",
      "\n",
      "\n",
      "IVU TRAFFIC TECHNOLOGIES AG\n",
      "KLUGE KÖPFE FÜR KOMPLEXE SYSTEME\n",
      "\n",
      "◼ Qualifiziert\n",
      "\n",
      "◼ Wir suchen die „richtig Guten“, \n",
      "Akademikeranteil über 80 %\n",
      "\n",
      "◼ Kompetent\n",
      "\n",
      "◼ Perfekt ausgebildete Ingenieure für \n",
      "anspruchsvolle Produkte und komplexe \n",
      "Projekte\n",
      "\n",
      "◼ International\n",
      "\n",
      "◼ Über 800 Mitarbeiter aus 45 Nationen\n",
      "\n",
      "pageimage7.jpg\n",
      "\n",
      "\n",
      "\n",
      "\n",
      "\n",
      "IVU TRAFFIC TECHNOLOGIES AG\n",
      "INNOVATIONEN FÜR DIE MOBILITÄT VON MORGEN\n",
      "\n",
      "◼ Digitalisierung\n",
      "\n",
      "◼ Big Data und smarte Apps \n",
      "revolutionieren den Verkehr\n",
      "\n",
      "◼ E-Mobilität\n",
      "\n",
      "◼ Elektrobusse optimiert planen und \n",
      "effizient einsetzen\n",
      "\n",
      "◼ Autonomes Fahren\n",
      "\n",
      "◼ Fahrerlose Busse in gemischte Flotten \n",
      "integrieren\n",
      "\n",
      "pageimage8.jpg\n",
      "\n",
      "\n",
      "\n",
      "\n",
      "\n",
      "IVU TRAFFIC TECHNOLOGIES AG\n",
      "LÖSUNGEN FÜR GLOBALE MEGATRENDS\n",
      "\n",
      "◼ Urbanisierung\n",
      "\n",
      "◼ Rund 60 % der Weltbevölkerung \n",
      "werden 2021 in Städten leben\n",
      "\n",
      "◼ Mobilität\n",
      "\n",
      "◼ Der Transportbedarf in \n",
      "städtischen Regionen wächst\n",
      "\n",
      "◼ Klimaschutz\n",
      "\n",
      "◼ Öffentlicher Verkehr ist das Rückgrat für \n",
      "eine umweltfreundliche Mobilität\n",
      "\n",
      "pageimage9.jpg\n",
      "\n",
      "\n",
      "\n",
      "\n",
      "\n",
      "IVU.SUITE SCREENSHOT\n",
      "\n",
      "IVU.suite\n",
      "\n",
      "DIE KOMPLETT-\n",
      "LÖSUNG FÜR DEN \n",
      "ÖFFENTLICHEN \n",
      "PERSONENVERKEHR\n",
      "\n",
      "pageimage10.jpg\n",
      "\n",
      "\n",
      "\n",
      "\n",
      "\n",
      "IVU.suite\n",
      "FÜR DEN ÖFFENTLICHEN VERKEHR\n",
      "\n",
      "IVU.run\n",
      "\n",
      "Umlauf-  und \n",
      "Laufplanun\n"
     ]
    }
   ],
   "source": [
    "results = await retriever.aget_relevant_documents(query=\"Akademikeranteil\")\n",
    "\n",
    "print(\" \".join([res.page_content for res in results]))"
   ]
  },
  {
   "cell_type": "code",
   "execution_count": 10,
   "metadata": {},
   "outputs": [],
   "source": [
    "async def get_IVU_context(input_to_search_for_context: str):\n",
    "    \"\"\"Get context from IVU database, very helpful to answer questions about IVU.\n",
    "\n",
    "    :param: input_to_search_for_context: Text (word or a whole sentence) to get the relevant context from the IVU database through vector search.\n",
    "    :return: IVU context that helps to answer questions about IVU.\n",
    "    \"\"\"\n",
    "    results = await retriever.aget_relevant_documents(query=input_to_search_for_context)\n",
    "    return \" \".join([res.page_content for res in results])\n",
    "    "
   ]
  },
  {
   "cell_type": "code",
   "execution_count": 11,
   "metadata": {},
   "outputs": [
    {
     "name": "stdout",
     "output_type": "stream",
     "text": [
      ".."
     ]
    },
    {
     "data": {
      "text/plain": [
       "'Es gibt keine spezifischen Informationen über den Akademikeranteil der IVU (IVU Traffic Technologies AG). In den verfügbaren Informationen wird erwähnt, dass die IVU nach \"qualifizierten\" Mitarbeitern sucht, wobei der Akademikeranteil über 80% liegt.\\n\\nEs ist jedoch wichtig zu beachten, dass dies nur allgemeine Informationen sind und keine detaillierten Zahlen bereitgestellt werden. Um genaue Informationen über den Akademikeranteil der IVU zu erhalten, empfehle ich, sich direkt an das Unternehmen zu wenden oder weitere aktuelle Informationen zu recherchieren.'"
      ]
     },
     "execution_count": 11,
     "metadata": {},
     "output_type": "execute_result"
    }
   ],
   "source": [
    "my_agent = agents.Agent(\n",
    "    functions=[get_IVU_context]\n",
    ")\n",
    "\n",
    "await my_agent.ask(\"Wie hoch ist der Akademikeranteil der IVU?\")"
   ]
  },
  {
   "cell_type": "code",
   "execution_count": 12,
   "metadata": {},
   "outputs": [
    {
     "data": {
      "text/plain": [
       "[{'role': 'system',\n",
       "  'content': 'Assistant is a large language model trained by OpenAI.\\n\\nAssistant is designed to be able to assist with a wide range of tasks, from answering simple questions to providing in-depth explanations and discussion on a wide range of topics. As a language model, Assistant is able to generate human-like text based on the input it receives, allowing it to engage in natural-sounding conversations and provide responses that are coherent and relevant to the topic at hand.\\n\\nAssistant is constantly learning and improving, and its capabilities are constantly evolving. It is able to process and understand large amounts of text, and can use this knowledge to provide accurate and informative responses to a wide range of questions. Additionally, Assistant is able to generate its own text based on the input it receives, allowing it to engage in discussions and provide explanations and descriptions on a wide range of topics.\\n\\nOverall, Assistant is a powerful system that can help with a wide range of tasks and provide valuable insights and information on a wide range of topics. Whether you need help with a specific question or just want to have a conversation about a particular topic, Assistant is here to assist.\\n'},\n",
       " {'role': 'user', 'content': 'Wie hoch ist der Akademikeranteil der IVU?'},\n",
       " {'role': 'assistant',\n",
       "  'content': 'Es gibt keine spezifischen Informationen über den Akademikeranteil der IVU (IVU Traffic Technologies AG). In den verfügbaren Informationen wird erwähnt, dass die IVU nach \"qualifizierten\" Mitarbeitern sucht, wobei der Akademikeranteil über 80% liegt.\\n\\nEs ist jedoch wichtig zu beachten, dass dies nur allgemeine Informationen sind und keine detaillierten Zahlen bereitgestellt werden. Um genaue Informationen über den Akademikeranteil der IVU zu erhalten, empfehle ich, sich direkt an das Unternehmen zu wenden oder weitere aktuelle Informationen zu recherchieren.'}]"
      ]
     },
     "execution_count": 12,
     "metadata": {},
     "output_type": "execute_result"
    }
   ],
   "source": [
    "my_agent.chat_history"
   ]
  },
  {
   "cell_type": "code",
   "execution_count": 13,
   "metadata": {},
   "outputs": [
    {
     "data": {
      "text/plain": [
       "[{'role': 'assistant',\n",
       "  'function_call': <OpenAIObject at 0x155198ef0> JSON: {\n",
       "    \"name\": \"get_IVU_context\",\n",
       "    \"arguments\": \"{\\n  \\\"input_to_search_for_context\\\": \\\"Akademikeranteil\\\"\\n}\"\n",
       "  },\n",
       "  'content': None},\n",
       " {'role': 'function',\n",
       "  'name': 'get_IVU_context',\n",
       "  'content': 'ALLE – PRODUKTE, PROZESSE, LÖSUNGEN\\n\\nIVU.integration\\n\\nVernetzte Systeme\\nWir stellen sicher, dass \\nIhre Systeme optimal \\nzusammenarbeiten und \\nalle Daten reibungslos \\nfließen.\\n\\nIVU.xpress\\n\\nEffizienter Projektprozess\\nUnser Implementierungs-\\nprozess macht Ihr Projekt \\nbesser planbar und sorgt \\nfür einen schnellen Go-\\nLive.\\n\\nIVU.support\\n\\nKompetenter Support\\nAuch nach der Inbetrieb-\\nnahme stehen Ihnen \\nunsere kompetenten \\nAnsprechpartner \\njederzeit zur Verfügung.\\n\\nIVU.cloud\\n\\nVerlässliches Hosting\\nPerformant, hoch-\\nverfügbar, sicher: Wir \\nübernehmen Hosting und \\nBetrieb Ihres Systems in \\nunserer Cloud.\\n\\n  IVU.suite\\n   Integrierte IT-Lösungen für alle Aufgabenbereiche eines Verkehrsbetriebs: \\n\\n   von der Planung bis hin zur Abrechnung von Verkehrsverträgen.\\n\\nIVU.consult\\n\\nStrategische Beratung\\nWir unterstützen Sie dabei, \\nIhr Angebot zu verbessern \\nund Ihre Prozesse mit den \\nProdukten der IVU.suite zu \\noptimieren.\\n\\npageimage6.jpg\\n\\n\\n\\n\\n\\nIVU TRAFFIC TECHNOLOGIES AG\\nKLUGE KÖPFE FÜR KOMPLEXE SYSTEME\\n\\n◼ Qualifiziert\\n\\n◼ Wir suchen die „richtig Guten“, \\nAkademikeranteil über 80 %\\n\\n◼ Kompetent\\n\\n◼ Perfekt ausgebildete Ingenieure für \\nanspruchsvolle Produkte und komplexe \\nProjekte\\n\\n◼ International\\n\\n◼ Über 800 Mitarbeiter aus 45 Nationen\\n\\npageimage7.jpg\\n\\n\\n\\n\\n\\nIVU TRAFFIC TECHNOLOGIES AG\\nINNOVATIONEN FÜR DIE MOBILITÄT VON MORGEN\\n\\n◼ Digitalisierung\\n\\n◼ Big Data und smarte Apps \\nrevolutionieren den Verkehr\\n\\n◼ E-Mobilität\\n\\n◼ Elektrobusse optimiert planen und \\neffizient einsetzen\\n\\n◼ Autonomes Fahren\\n\\n◼ Fahrerlose Busse in gemischte Flotten \\nintegrieren\\n\\npageimage8.jpg\\n\\n\\n\\n\\n\\nIVU TRAFFIC TECHNOLOGIES AG\\nLÖSUNGEN FÜR GLOBALE MEGATRENDS\\n\\n◼ Urbanisierung\\n\\n◼ Rund 60 % der Weltbevölkerung \\nwerden 2021 in Städten leben\\n\\n◼ Mobilität\\n\\n◼ Der Transportbedarf in \\nstädtischen Regionen wächst\\n\\n◼ Klimaschutz\\n\\n◼ Öffentlicher Verkehr ist das Rückgrat für \\neine umweltfreundliche Mobilität\\n\\npageimage9.jpg\\n\\n\\n\\n\\n\\nIVU.SUITE SCREENSHOT\\n\\nIVU.suite\\n\\nDIE KOMPLETT-\\nLÖSUNG FÜR DEN \\nÖFFENTLICHEN \\nPERSONENVERKEHR\\n\\npageimage10.jpg\\n\\n\\n\\n\\n\\nIVU.suite\\nFÜR DEN ÖFFENTLICHEN VERKEHR\\n\\nIVU.run\\n\\nUmlauf-  und \\nLaufplanun'}]"
      ]
     },
     "execution_count": 13,
     "metadata": {},
     "output_type": "execute_result"
    }
   ],
   "source": [
    "my_agent.internal_thoughts"
   ]
  },
  {
   "cell_type": "code",
   "execution_count": null,
   "metadata": {},
   "outputs": [],
   "source": []
  }
 ],
 "metadata": {
  "kernelspec": {
   "display_name": "funkagent",
   "language": "python",
   "name": "python3"
  },
  "language_info": {
   "codemirror_mode": {
    "name": "ipython",
    "version": 3
   },
   "file_extension": ".py",
   "mimetype": "text/x-python",
   "name": "python",
   "nbconvert_exporter": "python",
   "pygments_lexer": "ipython3",
   "version": "3.10.0"
  },
  "orig_nbformat": 4
 },
 "nbformat": 4,
 "nbformat_minor": 2
}
