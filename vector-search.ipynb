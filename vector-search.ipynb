{
 "cells": [
  {
   "cell_type": "code",
   "execution_count": 1,
   "metadata": {},
   "outputs": [],
   "source": [
    "%load_ext autoreload\n",
    "%autoreload 2"
   ]
  },
  {
   "cell_type": "code",
   "execution_count": 2,
   "metadata": {},
   "outputs": [],
   "source": [
    "from funkagent import agents\n",
    "from dotenv import load_dotenv\n",
    "import asyncio"
   ]
  },
  {
   "cell_type": "code",
   "execution_count": 3,
   "metadata": {},
   "outputs": [
    {
     "data": {
      "text/plain": [
       "True"
      ]
     },
     "execution_count": 3,
     "metadata": {},
     "output_type": "execute_result"
    }
   ],
   "source": [
    "# Load config file\n",
    "load_dotenv()"
   ]
  },
  {
   "cell_type": "code",
   "execution_count": 4,
   "metadata": {},
   "outputs": [],
   "source": [
    "# Define simple agent"
   ]
  },
  {
   "cell_type": "code",
   "execution_count": 5,
   "metadata": {},
   "outputs": [],
   "source": [
    "# create a simple function for testing with\n",
    "def circumference_calculator(radius: float, something: float = 4.4) -> float:\n",
    "    \"\"\"Calculates the circumference of a circle given the radius.\n",
    "\n",
    "    :param radius: The radius of the circle as a single, positive number (float) - no math calculations (*,+,-,/) as input allowed.\n",
    "    :return: The circumference of the circle\n",
    "    \"\"\"\n",
    "    return 2 * 3.14 * radius"
   ]
  },
  {
   "cell_type": "code",
   "execution_count": 18,
   "metadata": {},
   "outputs": [],
   "source": [
    "my_agent = agents.Agent(\n",
    "    functions=[circumference_calculator]\n",
    ")"
   ]
  },
  {
   "cell_type": "code",
   "execution_count": 23,
   "metadata": {},
   "outputs": [
    {
     "name": "stdout",
     "output_type": "stream",
     "text": [
      ".."
     ]
    },
    {
     "data": {
      "text/plain": [
       "'The circumference of a circle with a radius of 5 is approximately 31.4 units.'"
      ]
     },
     "execution_count": 23,
     "metadata": {},
     "output_type": "execute_result"
    }
   ],
   "source": [
    "await my_agent.ask(\"What is the circumference of a circle with radius 5 in one sentence?\")"
   ]
  },
  {
   "cell_type": "code",
   "execution_count": 22,
   "metadata": {},
   "outputs": [
    {
     "name": "stdout",
     "output_type": "stream",
     "text": [
      "....What is love in one sentence?\n",
      "->\n",
      "Love is a complex and multifaceted emotion that encompasses deep affection, care, and connection between individuals, often characterized by selflessness, understanding, and a willingness to support and nurture one another.\n",
      "\n",
      "\n",
      "What is the circumference of a circle with radius 7 in one sentence?\n",
      "->\n",
      "The circumference of a circle with a radius of 7 is approximately 43.96 units.\n",
      "\n",
      "\n",
      "Who is Messi in one sentence?\n",
      "->\n",
      "Messi is an Argentine professional soccer player widely regarded as one of the greatest of all time, known for his incredible skills, record-breaking achievements, and his long and successful career at FC Barcelona.\n",
      "\n",
      "\n"
     ]
    }
   ],
   "source": [
    "my_agents = [agents.Agent(functions=[circumference_calculator]) for _ in range(3)]\n",
    "\n",
    "questions = [\n",
    "    \"What is love in one sentence?\",\n",
    "    \"What is the circumference of a circle with radius 7 in one sentence?\",\n",
    "    \"Who is Messi in one sentence?\",\n",
    "    \"What is the circumference of a circle with radius 9 in one sentence?\",\n",
    "]\n",
    "\n",
    "results = await asyncio.gather(*[agent.ask(question) for question, agent in zip(questions, my_agents)])\n",
    "\n",
    "for answer, question in zip(results, questions):\n",
    "    print(\"\\n\")\n",
    "    print(question)\n",
    "    print(\"->\")\n",
    "    print(answer)"
   ]
  },
  {
   "cell_type": "code",
   "execution_count": 22,
   "metadata": {},
   "outputs": [],
   "source": [
    "# Add cognitive search as vector store"
   ]
  },
  {
   "cell_type": "code",
   "execution_count": null,
   "metadata": {},
   "outputs": [],
   "source": []
  }
 ],
 "metadata": {
  "kernelspec": {
   "display_name": "funkagent",
   "language": "python",
   "name": "python3"
  },
  "language_info": {
   "codemirror_mode": {
    "name": "ipython",
    "version": 3
   },
   "file_extension": ".py",
   "mimetype": "text/x-python",
   "name": "python",
   "nbconvert_exporter": "python",
   "pygments_lexer": "ipython3",
   "version": "3.10.0"
  },
  "orig_nbformat": 4
 },
 "nbformat": 4,
 "nbformat_minor": 2
}
